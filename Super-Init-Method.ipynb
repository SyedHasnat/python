{
 "cells": [
  {
   "cell_type": "markdown",
   "id": "e3268dd2",
   "metadata": {},
   "source": [
    ">### While deriving a class, why do we use the super init method?\n",
    ">### n the case of a derived class, how will the code flow take place?"
   ]
  },
  {
   "cell_type": "code",
   "execution_count": 1,
   "id": "0dc4ab31",
   "metadata": {},
   "outputs": [],
   "source": [
    "class ParentClass:\n",
    "    var1 = \"Class variable of ParentClass\"\n",
    "    \n",
    "    def __init__(self):\n",
    "        self.var1 = \"Inside ParentClass Init method\"\n",
    "        self.name = \"Syed Hasnat\"\n",
    "        \n",
    "class ChildClass(ParentClass):\n",
    "    var1 = \"Class variable of ClassOneChild\""
   ]
  },
  {
   "cell_type": "code",
   "execution_count": 2,
   "id": "d4ecd50b",
   "metadata": {},
   "outputs": [
    {
     "name": "stdout",
     "output_type": "stream",
     "text": [
      "Inside ParentClass Init method\n"
     ]
    }
   ],
   "source": [
    "inst_2 = ChildClass()\n",
    "\n",
    "print(inst_2.var1)"
   ]
  },
  {
   "cell_type": "markdown",
   "id": "b9f99867",
   "metadata": {},
   "source": [
    "- We have created two classes and then initialize `ChildClass`.\n",
    "-while printing var1 using instance of `ChildClass` what will happen?\n",
    "-Will run ChildClass as it have no `__init__` method so it will move to `ParentClass` and `__init__` method of the `ParentClass` class will get executed. From there it will print var1.\n"
   ]
  },
  {
   "cell_type": "markdown",
   "id": "80021a0e",
   "metadata": {},
   "source": [
    ">Let's comment out `var1` from the `__init__` method of the `ParentClass`"
   ]
  },
  {
   "cell_type": "code",
   "execution_count": 3,
   "id": "f05a3062",
   "metadata": {},
   "outputs": [],
   "source": [
    "class ParentClass:\n",
    "    var1 = \"Class variable of ParentClass\"\n",
    "    \n",
    "    def __init__(self):\n",
    "#         self.var1 = \"Inside ParentClass Init method\"\n",
    "        self.name = \"Syed Hasnat\"\n",
    "        \n",
    "class ChildClass(ParentClass):\n",
    "    var1 = \"Class variable of ClassOneChild\""
   ]
  },
  {
   "cell_type": "code",
   "execution_count": 4,
   "id": "a614f2e0",
   "metadata": {},
   "outputs": [
    {
     "name": "stdout",
     "output_type": "stream",
     "text": [
      "Class variable of ClassOneChild\n"
     ]
    }
   ],
   "source": [
    "inst_2 = ChildClass()\n",
    "\n",
    "print(inst_2.var1)"
   ]
  },
  {
   "cell_type": "markdown",
   "id": "44ba4d9e",
   "metadata": {},
   "source": [
    "- What happened while commenting out `var1` from the `__init__` method of `ParentClass`?\n",
    "- Now we haven't `var1` in the `__init__` method, it moves to the class varibale of `ParentClass` and will print it from there."
   ]
  },
  {
   "cell_type": "markdown",
   "id": "9a3c35eb",
   "metadata": {},
   "source": [
    ">Let's also comment out class variable `var1` from the `ParentClass`"
   ]
  },
  {
   "cell_type": "code",
   "execution_count": 5,
   "id": "144ab4a2",
   "metadata": {},
   "outputs": [],
   "source": [
    "class ParentClass:\n",
    "    var1 = \"Class variable of ParentClass\"\n",
    "    \n",
    "    def __init__(self):\n",
    "#         self.var1 = \"Inside ParentClass Init method\"\n",
    "        self.name = \"Syed Hasnat\"\n",
    "        \n",
    "class ChildClass(ParentClass):\n",
    "    var1 = \"Class variable of ClassOneChild\""
   ]
  },
  {
   "cell_type": "code",
   "execution_count": 6,
   "id": "9724e3c1",
   "metadata": {},
   "outputs": [
    {
     "name": "stdout",
     "output_type": "stream",
     "text": [
      "Class variable of ClassOneChild\n"
     ]
    }
   ],
   "source": [
    "inst_2 = ChildClass()\n",
    "\n",
    "print(inst_2.var1)"
   ]
  },
  {
   "cell_type": "markdown",
   "id": "e0cd1214",
   "metadata": {},
   "source": [
    "- What happened while commenting out class varibale `var1` from the `ParentClass`?\n",
    "- Now we haven't `var1` in the `ParentClass`, it moves to the `ParentClass` and returns back to `ChildClass` and will print it from there."
   ]
  },
  {
   "cell_type": "markdown",
   "id": "86a84537",
   "metadata": {},
   "source": [
    ">Let's copy `__init__` method from the `ParentClass` to the `ChildClass`"
   ]
  },
  {
   "cell_type": "code",
   "execution_count": 7,
   "id": "d86f9388",
   "metadata": {},
   "outputs": [],
   "source": [
    "class ParentClass:\n",
    "    var1 = \"Class variable of ParentClass\"\n",
    "    \n",
    "    def __init__(self):\n",
    "        self.var1 = \"Inside ParentClass Init method\"\n",
    "        self.name = \"Syed Hasnat\"\n",
    "        \n",
    "class ChildClass(ParentClass):\n",
    "    var1 = \"Class variable of ClassOneChild\"\n",
    "\n",
    "    def __init__(self):\n",
    "        self.var1 = \"Inside ChildClass Init method\" #change\n",
    "#         self.name = \"Syed Hasnat\"  because I don't want to overide it\n",
    "        "
   ]
  },
  {
   "cell_type": "code",
   "execution_count": 8,
   "id": "67286a01",
   "metadata": {},
   "outputs": [
    {
     "name": "stdout",
     "output_type": "stream",
     "text": [
      "Inside ChildClass Init method\n"
     ]
    }
   ],
   "source": [
    "inst_2 = ChildClass()\n",
    "\n",
    "print(inst_2.var1)"
   ]
  },
  {
   "cell_type": "markdown",
   "id": "6fd1d373",
   "metadata": {},
   "source": [
    ">Now the `ChildClass` have its own `__init__` method so printing it from there."
   ]
  },
  {
   "cell_type": "markdown",
   "id": "718b0801",
   "metadata": {},
   "source": [
    "- As I didn't override `name` but now I want to access it"
   ]
  },
  {
   "cell_type": "code",
   "execution_count": 9,
   "id": "1d88e94d",
   "metadata": {},
   "outputs": [
    {
     "ename": "AttributeError",
     "evalue": "'ChildClass' object has no attribute 'name'",
     "output_type": "error",
     "traceback": [
      "\u001b[1;31m---------------------------------------------------------------------------\u001b[0m",
      "\u001b[1;31mAttributeError\u001b[0m                            Traceback (most recent call last)",
      "Input \u001b[1;32mIn [9]\u001b[0m, in \u001b[0;36m<cell line: 1>\u001b[1;34m()\u001b[0m\n\u001b[1;32m----> 1\u001b[0m \u001b[38;5;28mprint\u001b[39m(\u001b[43minst_2\u001b[49m\u001b[38;5;241;43m.\u001b[39;49m\u001b[43mname\u001b[49m)\n",
      "\u001b[1;31mAttributeError\u001b[0m: 'ChildClass' object has no attribute 'name'"
     ]
    }
   ],
   "source": [
    "print(inst_2.name)"
   ]
  },
  {
   "cell_type": "markdown",
   "id": "ba4d2d2b",
   "metadata": {},
   "source": [
    "Finally failed to acess the attribute `name` from the `ParentClass`. **It's the time to use `super init` method**"
   ]
  },
  {
   "cell_type": "code",
   "execution_count": 10,
   "id": "6533a86c",
   "metadata": {},
   "outputs": [],
   "source": [
    "class ParentClass:\n",
    "    var1 = \"Class variable of ParentClass\"\n",
    "    \n",
    "    def __init__(self):\n",
    "        self.var1 = \"Inside ParentClass Init method\"\n",
    "        self.name = \"Syed Hasnat\"\n",
    "        \n",
    "class ChildClass(ParentClass):\n",
    "    var1 = \"Class variable of ClassOneChild\"\n",
    "\n",
    "    def __init__(self):\n",
    "        super().__init__()\n",
    "        self.var1 = \"Inside ChildClass Init method\" #change\n",
    "#         self.name = \"Syed Hasnat\"  because I don't want to overide it\n",
    "        "
   ]
  },
  {
   "cell_type": "code",
   "execution_count": 11,
   "id": "4894dd9f",
   "metadata": {},
   "outputs": [
    {
     "name": "stdout",
     "output_type": "stream",
     "text": [
      "Syed Hasnat\n"
     ]
    }
   ],
   "source": [
    "inst_2 = ChildClass()\n",
    "print(inst_2.name)"
   ]
  },
  {
   "cell_type": "markdown",
   "id": "3f217f96",
   "metadata": {},
   "source": [
    "## Summary\n",
    "- first the child class will acess the init method of the Parent class\n",
    "- if parent class haven't that attributes in init method then it move to class varibales\n",
    "- if it's also not availble in class variables then it will move to itself(child class)\n",
    "- if a child have it's own init method then you can override the parent class, and if you don't want to overide but use it directly then you have to use super init mathod."
   ]
  },
  {
   "cell_type": "code",
   "execution_count": null,
   "id": "693a30b9",
   "metadata": {},
   "outputs": [],
   "source": []
  }
 ],
 "metadata": {
  "kernelspec": {
   "display_name": "Python 3 (ipykernel)",
   "language": "python",
   "name": "python3"
  },
  "language_info": {
   "codemirror_mode": {
    "name": "ipython",
    "version": 3
   },
   "file_extension": ".py",
   "mimetype": "text/x-python",
   "name": "python",
   "nbconvert_exporter": "python",
   "pygments_lexer": "ipython3",
   "version": "3.9.12"
  }
 },
 "nbformat": 4,
 "nbformat_minor": 5
}
